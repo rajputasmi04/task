{
 "cells": [
  {
   "cell_type": "code",
   "execution_count": null,
   "id": "9c0b9463",
   "metadata": {},
   "outputs": [
    {
     "name": "stdout",
     "output_type": "stream",
     "text": [
      "\n",
      "====================\n",
      "What is the capital of France?\n",
      "1. London\n",
      "2. Paris\n",
      "3. Berlin\n"
     ]
    }
   ],
   "source": [
    "class Question:\n",
    "    def __init__(self, prompt, options, correct_option):\n",
    "        self.prompt = prompt\n",
    "        self.options = options\n",
    "        self.correct_option = correct_option\n",
    "\n",
    "    def display_question(self):\n",
    "        print(self.prompt)\n",
    "        for i, option in enumerate(self.options, start=1):\n",
    "            print(f\"{i}. {option}\")\n",
    "        \n",
    "        user_choice = int(input(\"Enter your choice (1, 2, 3, ...): \"))\n",
    "        return user_choice == self.correct_option\n",
    "\n",
    "\n",
    "def run_quiz(questions):\n",
    "    score = 0\n",
    "    for question in questions:\n",
    "        print(\"\\n\" + \"=\" * 20)\n",
    "        if question.display_question():\n",
    "            print(\"Correct!\")\n",
    "            score += 1\n",
    "        else:\n",
    "            print(\"Incorrect!\")\n",
    "    \n",
    "    print(\"\\n\" + \"=\" * 20)\n",
    "    print(f\"Quiz finished! You got {score} out of {len(questions)} questions correct.\")\n",
    "\n",
    "\n",
    "# Define your questions\n",
    "question1 = Question(\n",
    "    \"What is the capital of France?\",\n",
    "    [\"London\", \"Paris\", \"Berlin\"],\n",
    "    correct_option=2\n",
    ")\n",
    "\n",
    "question2 = Question(\n",
    "    \"Which planet is known as the 'Red Planet'?\",\n",
    "    [\"Mars\", \"Venus\", \"Jupiter\"],\n",
    "    correct_option=1\n",
    ")\n",
    "\n",
    "question3 = Question(\n",
    "    \"What is the largest mammal?\",\n",
    "    [\"Elephant\", \"Blue Whale\", \"Giraffe\"],\n",
    "    correct_option=2\n",
    ")\n",
    "\n",
    "# Add more questions as needed\n",
    "\n",
    "questions = [question1, question2, question3]\n",
    "\n",
    "# Run the quiz\n",
    "run_quiz(questions)\n"
   ]
  },
  {
   "cell_type": "code",
   "execution_count": null,
   "id": "21630fd6",
   "metadata": {},
   "outputs": [],
   "source": []
  }
 ],
 "metadata": {
  "kernelspec": {
   "display_name": "Python 3 (ipykernel)",
   "language": "python",
   "name": "python3"
  },
  "language_info": {
   "codemirror_mode": {
    "name": "ipython",
    "version": 3
   },
   "file_extension": ".py",
   "mimetype": "text/x-python",
   "name": "python",
   "nbconvert_exporter": "python",
   "pygments_lexer": "ipython3",
   "version": "3.10.9"
  }
 },
 "nbformat": 4,
 "nbformat_minor": 5
}

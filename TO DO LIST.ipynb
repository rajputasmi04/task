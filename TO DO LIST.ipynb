{
 "cells": [
  {
   "cell_type": "code",
   "execution_count": 6,
   "id": "ad296470",
   "metadata": {},
   "outputs": [
    {
     "name": "stderr",
     "output_type": "stream",
     "text": [
      "Exception in Tkinter callback\n",
      "Traceback (most recent call last):\n",
      "  File \"d:\\Users\\deshm\\anaconda3\\lib\\tkinter\\__init__.py\", line 1921, in __call__\n",
      "    return self.func(*args)\n",
      "  File \"C:\\Users\\deshm\\AppData\\Local\\Temp\\ipykernel_13140\\1899779828.py\", line 8, in add_item\n",
      "    items_entry.delete(0, tk.END)\n",
      "NameError: name 'items_entry' is not defined\n"
     ]
    }
   ],
   "source": [
    "import tkinter as tk\n",
    "from tkinter import messagebox\n",
    "\n",
    "def add_item():\n",
    "    item = item_entry.get()\n",
    "    if item:\n",
    "        items_listbox.insert(tk.END, item)\n",
    "        items_entry.delete(0, tk.END)\n",
    "    else:\n",
    "        messagebox.showwarning(\"Warning\", \"Please enter a item.\")\n",
    "\n",
    "root = tk.Tk()\n",
    "root.title(\"To-Do List\")\n",
    "\n",
    "heading_label = tk.Label(root, text=\"To Do List\", font=(\"Helvetica\", 45, \"bold\"), bg=\"PINK\")\n",
    "heading_label.pack(pady=10)\n",
    "\n",
    "\n",
    "heading_label = tk.Label(root, text=\"Add Item\")\n",
    "heading_label.pack(padx=10, pady=10)\n",
    "\n",
    "item_entry = tk.Entry(root)\n",
    "add_button = tk.Button(root, text=\"submit\", command=add_item)\n",
    "items_listbox = tk.Listbox(root)\n",
    "\n",
    "item_entry.pack(fill=tk.BOTH, padx=153, pady=5)\n",
    "add_button.pack(pady=5)\n",
    "items_listbox.pack(fill=tk.BOTH, pady=5, expand=True)\n",
    "                   \n",
    "root.mainloop()\n",
    "\n",
    "\n",
    "\n",
    "\n"
   ]
  },
  {
   "cell_type": "code",
   "execution_count": null,
   "id": "3aadc03d",
   "metadata": {},
   "outputs": [],
   "source": []
  },
  {
   "cell_type": "code",
   "execution_count": null,
   "id": "7fd60012",
   "metadata": {},
   "outputs": [],
   "source": []
  },
  {
   "cell_type": "code",
   "execution_count": null,
   "id": "d81ace72",
   "metadata": {},
   "outputs": [],
   "source": []
  },
  {
   "cell_type": "code",
   "execution_count": null,
   "id": "a159439d",
   "metadata": {},
   "outputs": [],
   "source": []
  },
  {
   "cell_type": "code",
   "execution_count": null,
   "id": "a530faf6",
   "metadata": {},
   "outputs": [],
   "source": []
  }
 ],
 "metadata": {
  "kernelspec": {
   "display_name": "Python 3 (ipykernel)",
   "language": "python",
   "name": "python3"
  },
  "language_info": {
   "codemirror_mode": {
    "name": "ipython",
    "version": 3
   },
   "file_extension": ".py",
   "mimetype": "text/x-python",
   "name": "python",
   "nbconvert_exporter": "python",
   "pygments_lexer": "ipython3",
   "version": "3.10.9"
  }
 },
 "nbformat": 4,
 "nbformat_minor": 5
}
